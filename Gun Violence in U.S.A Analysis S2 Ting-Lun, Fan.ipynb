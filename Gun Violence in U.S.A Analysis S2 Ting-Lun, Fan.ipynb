{
 "cells": [
  {
   "cell_type": "markdown",
   "metadata": {},
   "source": [
    "# Gun Violence in U.S.A Analysis"
   ]
  },
  {
   "cell_type": "markdown",
   "metadata": {},
   "source": [
    "# *The link of dataset"
   ]
  },
  {
   "cell_type": "markdown",
   "metadata": {},
   "source": [
    "https://www.kaggle.com/jameslko/gun-violence-data"
   ]
  },
  {
   "cell_type": "markdown",
   "metadata": {},
   "source": [
    "## 1. PySpark environment setup"
   ]
  },
  {
   "cell_type": "code",
   "execution_count": 188,
   "metadata": {},
   "outputs": [],
   "source": [
    "import findspark\n",
    "findspark.init()\n",
    "\n",
    "from pyspark.context import SparkContext\n",
    "from pyspark.sql.session import SparkSession\n",
    "\n",
    "sc = SparkContext.getOrCreate()\n",
    "spark = SparkSession(sc)"
   ]
  },
  {
   "cell_type": "markdown",
   "metadata": {},
   "source": [
    "## 2. Data source and Spark data abstraction (DataFrame) setup"
   ]
  },
  {
   "cell_type": "code",
   "execution_count": 187,
   "metadata": {},
   "outputs": [
    {
     "ename": "NameError",
     "evalue": "name 'gun_violence_data' is not defined",
     "output_type": "error",
     "traceback": [
      "\u001b[0;31m---------------------------------------------------------------------------\u001b[0m",
      "\u001b[0;31mNameError\u001b[0m                                 Traceback (most recent call last)",
      "\u001b[0;32m<ipython-input-187-26941d38b8cb>\u001b[0m in \u001b[0;36m<module>\u001b[0;34m\u001b[0m\n\u001b[0;32m----> 1\u001b[0;31m \u001b[0mGunDF\u001b[0m \u001b[0;34m=\u001b[0m \u001b[0mgun_violence_data\u001b[0m\u001b[0;34m.\u001b[0m\u001b[0mcsv\u001b[0m\u001b[0;34m\u001b[0m\u001b[0;34m\u001b[0m\u001b[0m\n\u001b[0m",
      "\u001b[0;31mNameError\u001b[0m: name 'gun_violence_data' is not defined"
     ]
    }
   ],
   "source": [
    "GunDF = gun_violence_data.csv"
   ]
  },
  {
   "cell_type": "code",
   "execution_count": 190,
   "metadata": {},
   "outputs": [
    {
     "data": {
      "text/plain": [
       "DataFrame[incident_id: string, date: string, state: string, city_or_county: string, address: string, n_killed: string, n_injured: string, incident_url: string, source_url: string, incident_url_fields_missing: string, congressional_district: string, gun_stolen: string, gun_type: string, incident_characteristics: string, latitude: string, location_description: string, longitude: double, n_guns_involved: int, notes: string, participant_age: string, participant_age_group: string, participant_gender: string, participant_name: string, participant_relationship: string, participant_status: string, participant_type: string, sources: string, state_house_district: string, state_senate_district: string]"
      ]
     },
     "execution_count": 190,
     "metadata": {},
     "output_type": "execute_result"
    }
   ],
   "source": [
    "GunDF = spark.read \\\n",
    "                 .option(\"inferSchema\", \"true\") \\\n",
    "                 .option(\"header\", \"true\") \\\n",
    "                 .csv(\"gun_violence_data.csv\")\n",
    "GunDF"
   ]
  },
  {
   "cell_type": "markdown",
   "metadata": {},
   "source": [
    "## 3. Data set metadata analysis\n",
    "### A. Display schema and size of the DataFrame"
   ]
  },
  {
   "cell_type": "code",
   "execution_count": 191,
   "metadata": {},
   "outputs": [
    {
     "name": "stdout",
     "output_type": "stream",
     "text": [
      "root\n",
      " |-- incident_id: string (nullable = true)\n",
      " |-- date: string (nullable = true)\n",
      " |-- state: string (nullable = true)\n",
      " |-- city_or_county: string (nullable = true)\n",
      " |-- address: string (nullable = true)\n",
      " |-- n_killed: string (nullable = true)\n",
      " |-- n_injured: string (nullable = true)\n",
      " |-- incident_url: string (nullable = true)\n",
      " |-- source_url: string (nullable = true)\n",
      " |-- incident_url_fields_missing: string (nullable = true)\n",
      " |-- congressional_district: string (nullable = true)\n",
      " |-- gun_stolen: string (nullable = true)\n",
      " |-- gun_type: string (nullable = true)\n",
      " |-- incident_characteristics: string (nullable = true)\n",
      " |-- latitude: string (nullable = true)\n",
      " |-- location_description: string (nullable = true)\n",
      " |-- longitude: double (nullable = true)\n",
      " |-- n_guns_involved: integer (nullable = true)\n",
      " |-- notes: string (nullable = true)\n",
      " |-- participant_age: string (nullable = true)\n",
      " |-- participant_age_group: string (nullable = true)\n",
      " |-- participant_gender: string (nullable = true)\n",
      " |-- participant_name: string (nullable = true)\n",
      " |-- participant_relationship: string (nullable = true)\n",
      " |-- participant_status: string (nullable = true)\n",
      " |-- participant_type: string (nullable = true)\n",
      " |-- sources: string (nullable = true)\n",
      " |-- state_house_district: string (nullable = true)\n",
      " |-- state_senate_district: string (nullable = true)\n",
      "\n"
     ]
    },
    {
     "data": {
      "text/markdown": [
       "This DataFrame has **246939 rows**."
      ],
      "text/plain": [
       "<IPython.core.display.Markdown object>"
      ]
     },
     "metadata": {},
     "output_type": "display_data"
    }
   ],
   "source": [
    "from IPython.display import display, Markdown\n",
    "\n",
    "GunDF.printSchema()\n",
    "display(Markdown(\"This DataFrame has **%d rows**.\" % GunDF.count()))"
   ]
  },
  {
   "cell_type": "markdown",
   "metadata": {},
   "source": [
    "### B. Get one or multiple random samples from the data set"
   ]
  },
  {
   "cell_type": "code",
   "execution_count": 192,
   "metadata": {},
   "outputs": [
    {
     "data": {
      "text/plain": [
       "[Row(incident_id='478948', date='2013-01-07', state='Oklahoma', city_or_county='Tulsa', address='6000 block of South Owasso', n_killed='4', n_injured='0', incident_url='http://www.gunviolencearchive.org/incident/478948', source_url='http://usnews.nbcnews.com/_news/2013/01/07/16397584-police-four-women-found-dead-in-tulsa-okla-apartment?lite', incident_url_fields_missing='False', congressional_district='1', gun_stolen=None, gun_type=None, incident_characteristics='Shot - Dead (murder, accidental, suicide)||Home Invasion||Home Invasion - Resident killed||Mass Shooting (4+ victims injured or killed excluding the subject/suspect/perpetrator, one location)||Armed robbery with injury/death and/or evidence of DGU found', latitude='36.2405', location_description='Fairmont Terrace', longitude=-95.9768, n_guns_involved=None, notes=None, participant_age='0::23||1::23||2::33||3::55', participant_age_group='0::Adult 18+||1::Adult 18+||2::Adult 18+||3::Adult 18+||4::Adult 18+||5::Adult 18+', participant_gender='0::Female||1::Female||2::Female||3::Female||4::Male||5::Male', participant_name='0::Rebeika Powell||1::Kayetie Melchor||2::Misty Nunley||3::Julie Jackson||4::James Poore||5::Cedric Poore', participant_relationship=None, participant_status='0::Killed||1::Killed||2::Killed||3::Killed||4::Unharmed, Arrested||5::Unharmed, Arrested', participant_type='0::Victim||1::Victim||2::Victim||3::Victim||4::Subject-Suspect||5::Subject-Suspect', sources='http://www.kjrh.com/news/local-news/4-found-shot-inside-apartment-in-tulsa||http://www.cbsnews.com/news/tulsa-apartment-murders-update-hearing-scheduled-for-brothers-charged-in-quadruple-killing/||http://www.kjrh.com/news/local-news/hearing-continues-for-fairmont-terrace-quadruple-homicide-suspect-cedric-poore-james-poore||http://www.kjrh.com/news/local-news/hearing-for-quadruple-murder-suspects-continue||http://usnews.nbcnews.com/_news/2013/01/07/16397584-police-four-women-found-dead-in-tulsa-okla-apartment?lite', state_house_district='72', state_senate_district='11'),\n",
       " Row(incident_id='479374', date='2013-01-21', state='Louisiana', city_or_county='New Orleans', address='LaSalle Street and Martin Luther King Jr. Boulevard', n_killed='0', n_injured='5', incident_url='http://www.gunviolencearchive.org/incident/479374', source_url='http://www.nola.com/crime/index.ssf/2013/01/nopd_4_people_shot_in_central.html', incident_url_fields_missing='False', congressional_district='2', gun_stolen=None, gun_type=None, incident_characteristics='Shot - Wounded/Injured||Drive-by (car to street, car to car)||Mass Shooting (4+ victims injured or killed excluding the subject/suspect/perpetrator, one location)', latitude='29.9435', location_description=None, longitude=-90.0836, n_guns_involved=None, notes='Unprovoked drive-by results in multiple teens and young adults injured. No source with names or exact ages.', participant_age=None, participant_age_group=None, participant_gender='0::Male||1::Male||2::Male||3::Male||4::Male', participant_name=None, participant_relationship=None, participant_status='0::Injured||1::Injured||2::Injured||3::Injured||4::Injured', participant_type='0::Victim||1::Victim||2::Victim||3::Victim||4::Victim||5::Subject-Suspect', sources='http://www.huffingtonpost.com/2013/01/21/new-orleans-mlk-day-shooting_n_2521750.html||http://www.fox8live.com/story/20640921/nopd-4-shot-alomg||http://www.nola.com/crime/index.ssf/2013/01/nopd_4_people_shot_in_central.html', state_house_district='93', state_senate_district='5')]"
      ]
     },
     "execution_count": 192,
     "metadata": {},
     "output_type": "execute_result"
    }
   ],
   "source": [
    "GunDF.cache() # optimization to make the processing faster\n",
    "GunDF.sample(False, 0.1).take(2)"
   ]
  },
  {
   "cell_type": "markdown",
   "metadata": {},
   "source": [
    "## 4. Data Cleaning"
   ]
  },
  {
   "cell_type": "markdown",
   "metadata": {},
   "source": [
    "### A. Check missing value percentage in every column"
   ]
  },
  {
   "cell_type": "code",
   "execution_count": 193,
   "metadata": {},
   "outputs": [
    {
     "name": "stdout",
     "output_type": "stream",
     "text": [
      "+-------------------+--------------------+--------------------+----------------------+------------------+--------------------+--------------------+--------------------+--------------------+-----------------------------------+------------------------------+-------------------+-------------------+--------------------------------+--------------------+----------------------------+--------------------+-----------------------+-----------------+-----------------------+-----------------------------+--------------------------+------------------------+--------------------------------+--------------------------+------------------------+------------------+----------------------------+-----------------------------+\n",
      "|incident_id_missing|        date_missing|       state_missing|city_or_county_missing|   address_missing|    n_killed_missing|   n_injured_missing|incident_url_missing|  source_url_missing|incident_url_fields_missing_missing|congressional_district_missing| gun_stolen_missing|   gun_type_missing|incident_characteristics_missing|    latitude_missing|location_description_missing|   longitude_missing|n_guns_involved_missing|    notes_missing|participant_age_missing|participant_age_group_missing|participant_gender_missing|participant_name_missing|participant_relationship_missing|participant_status_missing|participant_type_missing|   sources_missing|state_house_district_missing|state_senate_district_missing|\n",
      "+-------------------+--------------------+--------------------+----------------------+------------------+--------------------+--------------------+--------------------+--------------------+-----------------------------------+------------------------------+-------------------+-------------------+--------------------------------+--------------------+----------------------------+--------------------+-----------------------+-----------------+-----------------------+-----------------------------+--------------------------+------------------------+--------------------------------+--------------------------+------------------------+------------------+----------------------------+-----------------------------+\n",
      "|                0.0|9.557016105191662E-4|0.010334536059512622|  0.005159168863565489|0.0717464637015619|0.015040151616391051|0.024872539372071678|0.003786360194217...|0.005232061359283113|               0.001494296162210...|           0.05315077812739177|0.40886615722911324|0.43205002045039465|              0.0307120381956677|0.061488869720862205|          0.8295530475137585|0.061492919303957616|     0.4321431608615893|0.357493146080611|     0.4216830877261186|          0.22427401099056854|         0.201580147323833|      0.5399228149462013|              0.9382519569610308|        0.1674381122463442|     0.15630175873393837|0.0603185402062858|         0.21086179177853637|          0.18568148409121277|\n",
      "+-------------------+--------------------+--------------------+----------------------+------------------+--------------------+--------------------+--------------------+--------------------+-----------------------------------+------------------------------+-------------------+-------------------+--------------------------------+--------------------+----------------------------+--------------------+-----------------------+-----------------+-----------------------+-----------------------------+--------------------------+------------------------+--------------------------------+--------------------------+------------------------+------------------+----------------------------+-----------------------------+\n",
      "\n"
     ]
    }
   ],
   "source": [
    "import pyspark.sql.functions as fn\n",
    "GunDF.agg(*[(1-(fn.count(c) /fn.count('*'))).alias(c+'_missing') for c in GunDF.columns]).show()"
   ]
  },
  {
   "cell_type": "markdown",
   "metadata": {},
   "source": [
    "### B. Drop the columns which missing value are more than 15% and irrelevant to our analysis"
   ]
  },
  {
   "cell_type": "code",
   "execution_count": 194,
   "metadata": {},
   "outputs": [
    {
     "name": "stdout",
     "output_type": "stream",
     "text": [
      "Our data have 6 columns\n",
      "root\n",
      " |-- incident_id: string (nullable = true)\n",
      " |-- date: string (nullable = true)\n",
      " |-- state: string (nullable = true)\n",
      " |-- city_or_county: string (nullable = true)\n",
      " |-- n_killed: string (nullable = true)\n",
      " |-- n_injured: string (nullable = true)\n",
      "\n"
     ]
    },
    {
     "data": {
      "text/markdown": [
       "This DataFrame has **246939 rows**."
      ],
      "text/plain": [
       "<IPython.core.display.Markdown object>"
      ]
     },
     "metadata": {},
     "output_type": "display_data"
    }
   ],
   "source": [
    "columns_to_drop = ['address', 'incident_url', 'source_url', 'incident_url_fields_missing', 'congressional_district', 'gun_stolen', 'gun_type', 'latitude', 'location_description', 'longitude', 'n_guns_involved', 'notes', 'participant_age', 'incident_characteristics', 'participant_age_group', 'participant_gender', 'participant_name', 'participant_relationship', 'participant_status', 'participant_type', 'sources', 'state_house_district', 'state_senate_district']\n",
    "GunDF = GunDF.drop(*columns_to_drop)\n",
    "print(\"Our data have\", len(GunDF.columns), \"columns\")\n",
    "GunDF.printSchema()\n",
    "display(Markdown(\"This DataFrame has **%d rows**.\" % GunDF.count()))"
   ]
  },
  {
   "cell_type": "markdown",
   "metadata": {},
   "source": [
    "### C. Check missing value for the rest of the columns"
   ]
  },
  {
   "cell_type": "code",
   "execution_count": 358,
   "metadata": {},
   "outputs": [
    {
     "name": "stdout",
     "output_type": "stream",
     "text": [
      "Checking for nulls on columns incident_id, date, state, city_or_county, n_killed, n_injured:\n",
      "+-----------+----+-----+--------------+--------+---------+\n",
      "|incident_id|date|state|city_or_county|n_killed|n_injured|\n",
      "+-----------+----+-----+--------------+--------+---------+\n",
      "|          0|   0|    0|             0|    3238|      914|\n",
      "+-----------+----+-----+--------------+--------+---------+\n",
      "\n"
     ]
    }
   ],
   "source": [
    "print(\"Checking for nulls on columns incident_id, date, state, city_or_county, n_killed, n_injured:\")\n",
    "GunDF.select([count(when(col(c).isNull(), c)).alias(c) for c in [\"incident_id\", \"date\", \"state\", \"city_or_county\", \"n_killed\", \"n_injured\"]]).show()"
   ]
  },
  {
   "cell_type": "markdown",
   "metadata": {},
   "source": [
    "### D. Deal with missing values -- 'state' and 'city_or_county'"
   ]
  },
  {
   "cell_type": "code",
   "execution_count": 196,
   "metadata": {},
   "outputs": [
    {
     "name": "stdout",
     "output_type": "stream",
     "text": [
      "Checking for nulls on columns incident_id, date, state, city_or_county, n_killed, n_injured:\n",
      "+-----------+----+-----+--------------+--------+---------+\n",
      "|incident_id|date|state|city_or_county|n_killed|n_injured|\n",
      "+-----------+----+-----+--------------+--------+---------+\n",
      "|          0|   0|    0|             0|    1382|     3706|\n",
      "+-----------+----+-----+--------------+--------+---------+\n",
      "\n"
     ]
    }
   ],
   "source": [
    "# 1.State and city_or_county are two main analytical criteria, for our dataset, the geographical attribute is better to remove rather than fill it. \n",
    "#so we delete the row which contain null value in these two columns.\n",
    "GunDF = GunDF.filter(GunDF.state. isNotNull())\n",
    "GunDF = GunDF.filter(GunDF.city_or_county. isNotNull())\n",
    "GunDF = GunDF.filter(GunDF.date. isNotNull())\n",
    "\n",
    "\n",
    "#Check if it works\n",
    "print(\"Checking for nulls on columns incident_id, date, state, city_or_county, n_killed, n_injured:\")\n",
    "GunDF.select([count(when(col(c).isNull(), c)).alias(c) for c in [\"incident_id\", \"date\", \"state\", \"city_or_county\", \"n_killed\", \"n_injured\"]]).show()"
   ]
  },
  {
   "cell_type": "markdown",
   "metadata": {},
   "source": [
    "### E. Deal with missing values -- 'n_killed' and 'n_injured'"
   ]
  },
  {
   "cell_type": "code",
   "execution_count": 197,
   "metadata": {},
   "outputs": [
    {
     "name": "stdout",
     "output_type": "stream",
     "text": [
      "Checking for nulls on columns incident_id, date, state, city_or_county, n_killed, n_injured:\n",
      "+-----------+----+-----+--------------+--------+---------+\n",
      "|incident_id|date|state|city_or_county|n_killed|n_injured|\n",
      "+-----------+----+-----+--------------+--------+---------+\n",
      "|          0|   0|    0|             0|       0|        0|\n",
      "+-----------+----+-----+--------------+--------+---------+\n",
      "\n"
     ]
    }
   ],
   "source": [
    "# 2.for n_killed and n_injured, we fill \"mode = 0\" into all null value\n",
    "# So first we need to calculate the mode for these two cloumns\n",
    "\n",
    "GunDF = GunDF.fillna({\"n_killed\":0, \"n_injured\":0})\n",
    "\n",
    "# check result\n",
    "print(\"Checking for nulls on columns incident_id, date, state, city_or_county, n_killed, n_injured:\")\n",
    "GunDF.select([count(when(col(c).isNull(), c)).alias(c) for c in [\"incident_id\", \"date\", \"state\", \"city_or_county\", \"n_killed\", \"n_injured\"]]).show()"
   ]
  },
  {
   "cell_type": "markdown",
   "metadata": {},
   "source": [
    "## 5. Column basic profiling"
   ]
  },
  {
   "cell_type": "markdown",
   "metadata": {},
   "source": [
    "### A. Switch datatype of \"n_killed\" and \"n_injured\" from str to int"
   ]
  },
  {
   "cell_type": "code",
   "execution_count": 198,
   "metadata": {},
   "outputs": [
    {
     "data": {
      "text/plain": [
       "'string'"
      ]
     },
     "execution_count": 198,
     "metadata": {},
     "output_type": "execute_result"
    }
   ],
   "source": [
    "# Column n_injured and n_killed are both str datatype in the beginning, for further calculation we have to swith them into int\n",
    "\n",
    "def get_dtype(GunDF,n_injured):\n",
    "    return [dtype for name, dtype in GunDF.dtypes if name == n_injured][0]\n",
    "\n",
    "get_dtype(GunDF,'n_injured')\n"
   ]
  },
  {
   "cell_type": "code",
   "execution_count": 253,
   "metadata": {},
   "outputs": [
    {
     "data": {
      "text/plain": [
       "'int'"
      ]
     },
     "execution_count": 253,
     "metadata": {},
     "output_type": "execute_result"
    }
   ],
   "source": [
    "from pyspark.sql.types import IntegerType\n",
    "GunDF = GunDF.withColumn(\"n_killed\", GunDF[\"n_killed\"].cast(IntegerType()))\n",
    "GunDF = GunDF.withColumn(\"n_injured\", GunDF[\"n_injured\"].cast(IntegerType()))\n",
    "\n",
    "#test\n",
    "get_dtype(GunDF,'n_injured')"
   ]
  },
  {
   "cell_type": "markdown",
   "metadata": {},
   "source": [
    "### B. Get summary profile"
   ]
  },
  {
   "cell_type": "code",
   "execution_count": 200,
   "metadata": {
    "scrolled": true
   },
   "outputs": [
    {
     "name": "stdout",
     "output_type": "stream",
     "text": [
      "Summary of columns date:\n",
      "+-------+-----------------+\n",
      "|summary|             date|\n",
      "+-------+-----------------+\n",
      "|  count|           244297|\n",
      "|   mean|     -62.25280375|\n",
      "| stddev|95.04325055653644|\n",
      "|    min|   -100.011119 ;\"|\n",
      "|    25%|      -149.817365|\n",
      "|    50%|       -87.019119|\n",
      "|    75%|       -85.174731|\n",
      "|    max|            4::59|\n",
      "+-------+-----------------+\n",
      "\n",
      "Checking amount of distinct values in columns date:\n",
      "+----+\n",
      "|date|\n",
      "+----+\n",
      "|6210|\n",
      "+----+\n",
      "\n",
      "Summary of columns state, city_or_county:\n",
      "+-------+--------------------+--------------------+\n",
      "|summary|               state|      city_or_county|\n",
      "+-------+--------------------+--------------------+\n",
      "|  count|              244297|              244297|\n",
      "|   mean|                22.0|                null|\n",
      "| stddev|                 NaN|                null|\n",
      "|    min| -75.462676 did g...| 9mm and .22-cali...|\n",
      "|    25%|                22.0|                null|\n",
      "|    50%|                22.0|                null|\n",
      "|    75%|                22.0|                null|\n",
      "|    max|             Wyoming|jefferson parish ...|\n",
      "+-------+--------------------+--------------------+\n",
      "\n",
      "Checking amount of distinct values in columns state, city_or_county:\n",
      "+-----+--------------+\n",
      "|state|city_or_county|\n",
      "+-----+--------------+\n",
      "| 1523|         13077|\n",
      "+-----+--------------+\n",
      "\n",
      "Summary of columns n_killed, n_injured:\n",
      "+-------+------------------+------------------+\n",
      "|summary|          n_killed|         n_injured|\n",
      "+-------+------------------+------------------+\n",
      "|  count|            241059|            243383|\n",
      "|   mean|0.2508431545804139|0.4864842655403212|\n",
      "| stddev|0.5206295858683199|0.7268949981916245|\n",
      "|    min|                 0|                 0|\n",
      "|    25%|                 0|                 0|\n",
      "|    50%|                 0|                 0|\n",
      "|    75%|                 0|                 1|\n",
      "|    max|                50|                53|\n",
      "+-------+------------------+------------------+\n",
      "\n",
      "Checking amount of distinct values in columns n_killed, n_injured:\n",
      "+--------+---------+\n",
      "|n_killed|n_injured|\n",
      "+--------+---------+\n",
      "|      16|       23|\n",
      "+--------+---------+\n",
      "\n"
     ]
    }
   ],
   "source": [
    "from IPython.display import display, Markdown\n",
    "from pyspark.sql.functions import when, count, col, countDistinct, desc, first\n",
    "\n",
    "print (\"Summary of columns date:\")\n",
    "GunDF.select(\"date\").summary().show()\n",
    "\n",
    "print(\"Checking amount of distinct values in columns date:\")\n",
    "GunDF.select([countDistinct(c).alias(c) for c in [\"date\"]]).show()\n",
    "\n",
    "print (\"Summary of columns state, city_or_county:\")\n",
    "GunDF.select(\"state\", \"city_or_county\").summary().show()\n",
    "\n",
    "print(\"Checking amount of distinct values in columns state, city_or_county:\")\n",
    "GunDF.select([countDistinct(c).alias(c) for c in [\"state\", \"city_or_county\"]]).show()\n",
    "\n",
    "print (\"Summary of columns n_killed, n_injured:\")\n",
    "GunDF.select(\"n_killed\", \"n_injured\").summary().show()\n",
    "\n",
    "print(\"Checking amount of distinct values in columns n_killed, n_injured:\")\n",
    "GunDF.select([countDistinct(c).alias(c) for c in [\"n_killed\", \"n_injured\"]]).show()"
   ]
  },
  {
   "cell_type": "markdown",
   "metadata": {},
   "source": [
    "## 6. Analysis 1_State"
   ]
  },
  {
   "cell_type": "markdown",
   "metadata": {},
   "source": [
    "### A. Calculate each state with their total incident separately"
   ]
  },
  {
   "cell_type": "code",
   "execution_count": 247,
   "metadata": {},
   "outputs": [
    {
     "name": "stdout",
     "output_type": "stream",
     "text": [
      "+--------------+-------------+\n",
      "|         state|totalincident|\n",
      "+--------------+-------------+\n",
      "|      Illinois|        17556|\n",
      "|    California|        16306|\n",
      "|       Florida|        15029|\n",
      "|         Texas|        13577|\n",
      "|          Ohio|        10244|\n",
      "|      New York|         9712|\n",
      "|  Pennsylvania|         8929|\n",
      "|       Georgia|         8925|\n",
      "|North Carolina|         8739|\n",
      "|     Louisiana|         8103|\n",
      "|     Tennessee|         7626|\n",
      "|South Carolina|         6939|\n",
      "|      Missouri|         6631|\n",
      "|      Michigan|         6136|\n",
      "| Massachusetts|         5981|\n",
      "|      Virginia|         5949|\n",
      "|       Indiana|         5852|\n",
      "|      Maryland|         5798|\n",
      "|       Alabama|         5471|\n",
      "|    New Jersey|         5387|\n",
      "+--------------+-------------+\n",
      "\n"
     ]
    }
   ],
   "source": [
    "GunGeoDF = \\\n",
    "   GunDF.groupBy(\"state\")\\\n",
    "        .agg(count(\"incident_id\").alias(\"totalincident\"))\\\n",
    "        .orderBy(col(\"totalincident\").desc())\n",
    "\n",
    "GunGeoDF.limit(20).show()"
   ]
  },
  {
   "cell_type": "markdown",
   "metadata": {},
   "source": [
    "### B. Create alert level for different amount of gun violence incident"
   ]
  },
  {
   "cell_type": "code",
   "execution_count": 352,
   "metadata": {},
   "outputs": [
    {
     "name": "stdout",
     "output_type": "stream",
     "text": [
      "+--------------+-------------+------------------------+\n",
      "|         state|totalincident|GunViolenceSeverityLevel|\n",
      "+--------------+-------------+------------------------+\n",
      "|      Illinois|        17556|             Black Alert|\n",
      "|    California|        16306|             Black Alert|\n",
      "|       Florida|        15029|             Black Alert|\n",
      "|         Texas|        13577|             Black Alert|\n",
      "|          Ohio|        10244|             Black Alert|\n",
      "|      New York|         9712|               Red Alert|\n",
      "|  Pennsylvania|         8929|               Red Alert|\n",
      "|       Georgia|         8925|               Red Alert|\n",
      "|North Carolina|         8739|               Red Alert|\n",
      "|     Louisiana|         8103|               Red Alert|\n",
      "|     Tennessee|         7626|            Yellow Alert|\n",
      "|South Carolina|         6939|            Yellow Alert|\n",
      "|      Missouri|         6631|            Yellow Alert|\n",
      "|      Michigan|         6136|            Yellow Alert|\n",
      "| Massachusetts|         5981|              Blue Alert|\n",
      "|      Virginia|         5949|              Blue Alert|\n",
      "|       Indiana|         5852|              Blue Alert|\n",
      "|      Maryland|         5798|              Blue Alert|\n",
      "|       Alabama|         5471|              Blue Alert|\n",
      "|    New Jersey|         5387|              Blue Alert|\n",
      "+--------------+-------------+------------------------+\n",
      "\n"
     ]
    }
   ],
   "source": [
    "RatioGunGeoDF = GunGeoDF\\\n",
    "            .withColumn(\"GunViolenceSeverityLevel\", when(col(\"totalincident\")>=10000,\"Black Alert\")\\\n",
    "            .when((col(\"totalincident\")>=8000) & (col(\"totalincident\")<=9999),\"Red Alert\")\\\n",
    "            .when((col(\"totalincident\")>=6000) & (col(\"totalincident\")<=7999),\"Yellow Alert\")\\\n",
    "            .when((col(\"totalincident\")>=2000) & (col(\"totalincident\")<=5999),\"Blue Alert\")\\\n",
    "            .otherwise(\"Green Alert\"))\n",
    "\n",
    "RatioGunGeoDF.limit(20).show()"
   ]
  },
  {
   "cell_type": "markdown",
   "metadata": {},
   "source": [
    "### C. Select the most serious level- Black alert for the following analysis"
   ]
  },
  {
   "cell_type": "code",
   "execution_count": 259,
   "metadata": {},
   "outputs": [
    {
     "name": "stdout",
     "output_type": "stream",
     "text": [
      "+----------+-------------+------------------------+\n",
      "|     state|totalincident|GunViolenceSeverityLevel|\n",
      "+----------+-------------+------------------------+\n",
      "|  Illinois|        17556|             Black Alert|\n",
      "|California|        16306|             Black Alert|\n",
      "|   Florida|        15029|             Black Alert|\n",
      "|     Texas|        13577|             Black Alert|\n",
      "|      Ohio|        10244|             Black Alert|\n",
      "+----------+-------------+------------------------+\n",
      "\n"
     ]
    }
   ],
   "source": [
    "BlackalertDF = \\\n",
    "  RatioGunGeoDF.where((col(\"GunViolenceSeverityLevel\")==\"Black Alert\"))\\\n",
    "\n",
    "BlackalertDF.show()"
   ]
  },
  {
   "cell_type": "markdown",
   "metadata": {},
   "source": [
    "## 7. Analysis 2_Black alert state deep analysis - Illinois as an example"
   ]
  },
  {
   "cell_type": "markdown",
   "metadata": {},
   "source": [
    "### A. Get deeper in states with black alert - city or county"
   ]
  },
  {
   "cell_type": "code",
   "execution_count": 345,
   "metadata": {},
   "outputs": [
    {
     "name": "stdout",
     "output_type": "stream",
     "text": [
      "+--------+-------------------+-------------+\n",
      "|   state|     city_or_county|totalincident|\n",
      "+--------+-------------------+-------------+\n",
      "|Illinois|            Chicago|        10814|\n",
      "|Illinois|             Peoria|          920|\n",
      "|Illinois|           Rockford|          842|\n",
      "|Illinois|Chicago (Englewood)|          542|\n",
      "|Illinois|        Springfield|          303|\n",
      "+--------+-------------------+-------------+\n",
      "\n",
      "+----------+-------------------------+-------------+\n",
      "|     state|California_city_or_county|totalincident|\n",
      "+----------+-------------------------+-------------+\n",
      "|California|                  Oakland|         1478|\n",
      "|California|              Los Angeles|         1066|\n",
      "|California|                   Fresno|         1057|\n",
      "|California|              Bakersfield|          605|\n",
      "|California|                 Stockton|          555|\n",
      "+----------+-------------------------+-------------+\n",
      "\n",
      "+-------+----------------------+-------------+\n",
      "|  state|Florida_city_or_county|totalincident|\n",
      "+-------+----------------------+-------------+\n",
      "|Florida|          Jacksonville|         2317|\n",
      "|Florida|               Orlando|         1020|\n",
      "|Florida|                 Miami|          837|\n",
      "|Florida|                 Tampa|          601|\n",
      "|Florida|       West Palm Beach|          431|\n",
      "+-------+----------------------+-------------+\n",
      "\n",
      "+-----+--------------------+-------------+\n",
      "|state|Texas_city_or_county|totalincident|\n",
      "+-----+--------------------+-------------+\n",
      "|Texas|             Houston|         2480|\n",
      "|Texas|         San Antonio|         1627|\n",
      "|Texas|              Dallas|         1152|\n",
      "|Texas|      Corpus Christi|          584|\n",
      "|Texas|              Austin|          530|\n",
      "+-----+--------------------+-------------+\n",
      "\n",
      "+-----+-------------------+-------------+\n",
      "|state|Ohio_city_or_county|totalincident|\n",
      "+-----+-------------------+-------------+\n",
      "| Ohio|          Cleveland|         1709|\n",
      "| Ohio|           Columbus|         1282|\n",
      "| Ohio|         Cincinnati|         1108|\n",
      "| Ohio|             Dayton|         1016|\n",
      "| Ohio|             Toledo|          804|\n",
      "+-----+-------------------+-------------+\n",
      "\n"
     ]
    }
   ],
   "source": [
    "#Illinois state\n",
    "\n",
    "IlliDF = GunDF.where(col(\"state\")==\"Illinois\")\\\n",
    "                .select(\"state\", \"city_or_county\")\\\n",
    "                .groupBy(\"state\", \"city_or_county\")\\\n",
    "                .agg(count(\"city_or_county\").alias(\"totalincident\"))\\\n",
    "                .sort(F.col(\"totalincident\").desc())\\\n",
    "\n",
    "IlliDF.limit(5).show()\n",
    "\n",
    "#California state\n",
    "\n",
    "CaliDF = GunDF.where(col(\"state\")==\"California\")\\\n",
    "                .select(\"state\", \"city_or_county\")\\\n",
    "                .groupBy(\"state\", \"city_or_county\")\\\n",
    "                .agg(count(\"city_or_county\").alias(\"totalincident\"))\\\n",
    "                .sort(F.col(\"totalincident\").desc())\\\n",
    "                .withColumnRenamed(\"city_or_county\", \"California_city_or_county\")\n",
    "\n",
    "CaliDF.limit(5).show()\n",
    "\n",
    "\n",
    "\n",
    "#Florida state\n",
    "\n",
    "FloDF = GunDF.where(col(\"state\")==\"Florida\")\\\n",
    "                .select(\"state\", \"city_or_county\")\\\n",
    "                .groupBy(\"state\", \"city_or_county\")\\\n",
    "                .agg(count(\"city_or_county\").alias(\"totalincident\"))\\\n",
    "                .sort(F.col(\"totalincident\").desc())\\\n",
    "                .withColumnRenamed(\"city_or_county\", \"Florida_city_or_county\")\n",
    "\n",
    "FloDF.limit(5).show()\n",
    "#Texas state\n",
    "\n",
    "TexDF = GunDF.where(col(\"state\")==\"Texas\")\\\n",
    "                .select(\"state\", \"city_or_county\")\\\n",
    "                .groupBy(\"state\", \"city_or_county\")\\\n",
    "                .agg(count(\"city_or_county\").alias(\"totalincident\"))\\\n",
    "                .sort(F.col(\"totalincident\").desc())\\\n",
    "                .withColumnRenamed(\"city_or_county\", \"Texas_city_or_county\")\n",
    "\n",
    "TexDF.limit(5).show()\n",
    "\n",
    "#Ohio state\n",
    "\n",
    "OhioDF = GunDF.where(col(\"state\")==\"Ohio\")\\\n",
    "                .select(\"state\", \"city_or_county\")\\\n",
    "                .groupBy(\"state\", \"city_or_county\")\\\n",
    "                .agg(count(\"city_or_county\").alias(\"totalincident\"))\\\n",
    "                .sort(F.col(\"totalincident\").desc())\\\n",
    "                .withColumnRenamed(\"city_or_county\", \"Ohio_city_or_county\")\n",
    "\n",
    "OhioDF.limit(5).show()\n",
    "\n",
    "#Now we can see which city or county needs to be focus primarily"
   ]
  },
  {
   "cell_type": "markdown",
   "metadata": {},
   "source": [
    "### B. Average of people get killed in city or county - Illinois as an example"
   ]
  },
  {
   "cell_type": "code",
   "execution_count": 332,
   "metadata": {},
   "outputs": [
    {
     "name": "stdout",
     "output_type": "stream",
     "text": [
      "+--------+------------------+-------------+\n",
      "|   state|    city_or_county|averagekilled|\n",
      "+--------+------------------+-------------+\n",
      "|Illinois|        Manchester|          6.0|\n",
      "|Illinois|            Dwight|          3.0|\n",
      "|Illinois|           Geneseo|          2.5|\n",
      "|Illinois|          Danforth|          2.0|\n",
      "|Illinois|  Bay View Gardens|          2.0|\n",
      "|Illinois|         Braidwood|          2.0|\n",
      "|Illinois|            Warsaw|          2.0|\n",
      "|Illinois|          Columbia|          2.0|\n",
      "|Illinois|Benton (West City)|          2.0|\n",
      "|Illinois|      Morton Grove|          2.0|\n",
      "|Illinois|              Avon|          2.0|\n",
      "|Illinois|           Oakwood|          2.0|\n",
      "|Illinois|       Hazel Crest|         1.67|\n",
      "|Illinois|     Cherry Valley|          1.5|\n",
      "|Illinois|      River Forest|          1.5|\n",
      "|Illinois|      Bloomingdale|          1.5|\n",
      "|Illinois|      Ford Heights|          1.4|\n",
      "|Illinois|  Round Lake Beach|          1.0|\n",
      "|Illinois|         Northlake|          1.0|\n",
      "|Illinois|           Lynwood|          1.0|\n",
      "+--------+------------------+-------------+\n",
      "only showing top 20 rows\n",
      "\n"
     ]
    }
   ],
   "source": [
    "from pyspark.sql.functions import max, min, avg, stddev\n",
    "from pyspark.sql.types import IntegerType\n",
    "from pyspark.sql.functions import count, round\n",
    "\n",
    "KilledIlliDF = GunDF.where(col(\"state\")==\"Illinois\")\\\n",
    "                .select(\"state\", \"city_or_county\", \"n_killed\")\\\n",
    "                .groupBy(\"state\", \"city_or_county\")\\\n",
    "                .agg(avg(\"n_killed\").alias(\"averagekilled\"))\\\n",
    "                .sort(F.col(\"averagekilled\").desc())\\\n",
    "                .select(\"state\", \"city_or_county\",round(\"averagekilled\",2).alias(\"averagekilled\"))\n",
    "\n",
    "KilledIlliDF.show()\n",
    "              "
   ]
  },
  {
   "cell_type": "markdown",
   "metadata": {},
   "source": [
    "### C. Average of people get injgured in city or county - Illinois as an example"
   ]
  },
  {
   "cell_type": "code",
   "execution_count": 355,
   "metadata": {},
   "outputs": [
    {
     "name": "stdout",
     "output_type": "stream",
     "text": [
      "+--------+--------------------+--------------+\n",
      "|   state|      city_or_county|averageinjured|\n",
      "+--------+--------------------+--------------+\n",
      "|Illinois|         Centreville|           5.0|\n",
      "|Illinois|          Hanna City|           3.0|\n",
      "|Illinois|          Lake Bluff|           3.0|\n",
      "|Illinois|        Calumet Park|           2.0|\n",
      "|Illinois|    Mchenry (county)|           2.0|\n",
      "|Illinois|         Carlinville|           2.0|\n",
      "|Illinois|              Oreana|           2.0|\n",
      "|Illinois|            Bellmont|           2.0|\n",
      "|Illinois|    Vermilion County|           2.0|\n",
      "|Illinois|        Hopkins Park|           2.0|\n",
      "|Illinois|            Homewood|           2.0|\n",
      "|Illinois|             Momence|          1.67|\n",
      "|Illinois|              Rankin|          1.67|\n",
      "|Illinois|  Chicago (Norridge)|           1.5|\n",
      "|Illinois|              Venice|          1.43|\n",
      "|Illinois|  Lovejoy (Brooklyn)|           1.4|\n",
      "|Illinois|              Mounds|          1.33|\n",
      "|Illinois|        Sauk Village|          1.33|\n",
      "|Illinois|            Bellwood|          1.17|\n",
      "|Illinois|Chicago (Chicago ...|          1.01|\n",
      "+--------+--------------------+--------------+\n",
      "only showing top 20 rows\n",
      "\n"
     ]
    }
   ],
   "source": [
    "InjuredIlliDF = GunDF.where(col(\"state\")==\"Illinois\")\\\n",
    "                .select(\"state\", \"city_or_county\", \"n_injured\")\\\n",
    "                .groupBy(\"state\", \"city_or_county\")\\\n",
    "                .agg(avg(\"n_injured\").alias(\"averageinjured\"))\\\n",
    "                .sort(F.col(\"averageinjured\").desc())\\\n",
    "                .select(\"state\",\"city_or_county\",round(\"averageinjured\",2).alias(\"averageinjured\"))\n",
    "\n",
    "InjuredIlliDF.show()\n"
   ]
  },
  {
   "cell_type": "markdown",
   "metadata": {},
   "source": [
    "### D. Merge table together - Illinois as an example"
   ]
  },
  {
   "cell_type": "code",
   "execution_count": 337,
   "metadata": {
    "scrolled": false
   },
   "outputs": [
    {
     "name": "stdout",
     "output_type": "stream",
     "text": [
      "+--------+-------------------+--------------+-------------+\n",
      "|   state|     city_or_county|averageinjured|averagekilled|\n",
      "+--------+-------------------+--------------+-------------+\n",
      "|Illinois|            Addison|           0.5|          1.0|\n",
      "|Illinois|          Braidwood|           0.0|          2.0|\n",
      "|Illinois|Chicago (Englewood)|          1.01|         0.26|\n",
      "|Illinois|           Lockport|          0.27|         0.27|\n",
      "|Illinois|             Dekalb|          0.11|         0.22|\n",
      "|Illinois|   Kendall (county)|           0.0|          0.0|\n",
      "|Illinois|       Libertyville|           0.0|          0.5|\n",
      "|Illinois|           O'fallon|           0.0|          0.0|\n",
      "|Illinois|         Homer Glen|           0.5|          1.0|\n",
      "|Illinois|       Melrose Park|          0.43|         0.71|\n",
      "|Illinois|         New Boston|           0.0|          0.0|\n",
      "|Illinois|             Quincy|          0.29|         0.08|\n",
      "|Illinois|         Crest Hill|           0.0|          0.0|\n",
      "|Illinois|        Lynn Center|           0.0|          0.0|\n",
      "|Illinois|            Marengo|          0.67|          0.0|\n",
      "|Illinois|    Saline (county)|           0.5|          0.0|\n",
      "|Illinois|      Spring Valley|           0.0|          0.0|\n",
      "|Illinois|         Wood River|          0.14|          0.0|\n",
      "|Illinois|            Carlock|           0.0|          1.0|\n",
      "|Illinois|          Grayville|           1.0|          0.0|\n",
      "+--------+-------------------+--------------+-------------+\n",
      "only showing top 20 rows\n",
      "\n"
     ]
    }
   ],
   "source": [
    "# merge InjuredIlliDF and KilledIlliDF first\n",
    "\n",
    "kandiDF = InjuredIlliDF.join(KilledIlliDF, on=[\"city_or_county\", \"state\"]).select(\"state\", \"city_or_county\", \"averageinjured\", \"averagekilled\")\n",
    "kandiDF.show()"
   ]
  },
  {
   "cell_type": "code",
   "execution_count": 351,
   "metadata": {},
   "outputs": [
    {
     "name": "stdout",
     "output_type": "stream",
     "text": [
      "+--------+--------------------+-------------+--------------+-------------+------------------------+\n",
      "|   state|      city_or_county|totalincident|averageinjured|averagekilled|GunViolenceSeverityLevel|\n",
      "+--------+--------------------+-------------+--------------+-------------+------------------------+\n",
      "|Illinois|             Chicago|        10814|          0.96|         0.19|             Black Alert|\n",
      "|Illinois|              Peoria|          920|          0.32|         0.04|             Green Alert|\n",
      "|Illinois|            Rockford|          842|          0.47|         0.09|             Green Alert|\n",
      "|Illinois| Chicago (Englewood)|          542|          1.01|         0.26|             Green Alert|\n",
      "|Illinois|         Springfield|          303|          0.37|         0.13|             Green Alert|\n",
      "|Illinois|           Champaign|          213|          0.38|         0.12|             Green Alert|\n",
      "|Illinois|              Joliet|          198|          0.46|         0.23|             Green Alert|\n",
      "|Illinois|              Aurora|          191|          0.45|         0.15|             Green Alert|\n",
      "|Illinois|            Kankakee|          186|          0.34|          0.1|             Green Alert|\n",
      "|Illinois|  Chicago (Roseland)|          159|          0.96|         0.26|             Green Alert|\n",
      "|Illinois|             Decatur|          140|          0.54|         0.16|             Green Alert|\n",
      "|Illinois|    East Saint Louis|          120|          0.37|         0.59|             Green Alert|\n",
      "|Illinois|            Danville|          102|          0.57|         0.25|             Green Alert|\n",
      "|Illinois|              Urbana|           95|          0.26|         0.07|             Green Alert|\n",
      "|Illinois|            Evanston|           84|          0.33|          0.1|             Green Alert|\n",
      "|Illinois|          Carbondale|           81|          0.38|         0.07|             Green Alert|\n",
      "|Illinois|          Belleville|           69|          0.28|         0.12|             Green Alert|\n",
      "|Illinois|Chicago (Chicago ...|           67|          1.01|         0.24|             Green Alert|\n",
      "|Illinois|               Alton|           66|          0.38|         0.14|             Green Alert|\n",
      "|Illinois|              Quincy|           66|          0.29|         0.08|             Green Alert|\n",
      "+--------+--------------------+-------------+--------------+-------------+------------------------+\n",
      "only showing top 20 rows\n",
      "\n"
     ]
    }
   ],
   "source": [
    "# merge kandiDF and IlliDF with Gun Violence Severity Level indication\n",
    "\n",
    "allDF = IlliDF.join(kandiDF, on=[\"city_or_county\", \"state\"]).select(\"state\", \"city_or_county\", \"totalincident\", \"averageinjured\", \"averagekilled\")\n",
    "allDF.sort(F.col(\"totalincident\").desc())\\\n",
    "            .withColumn(\"GunViolenceSeverityLevel\", when(col(\"totalincident\")>=10000,\"Black Alert\")\\\n",
    "            .when((col(\"totalincident\")>=8000) & (col(\"totalincident\")<=9999),\"Red Alert\")\\\n",
    "            .when((col(\"totalincident\")>=6000) & (col(\"totalincident\")<=7999),\"Yellow Alert\")\\\n",
    "            .when((col(\"totalincident\")>=2000) & (col(\"totalincident\")<=5999),\"Blue Alert\")\\\n",
    "            .otherwise(\"Green Alert\")).show()\n",
    "\n",
    "# By using Illinois as an example, the other states be done with the same code and method."
   ]
  },
  {
   "cell_type": "code",
   "execution_count": 357,
   "metadata": {},
   "outputs": [
    {
     "name": "stdout",
     "output_type": "stream",
     "text": [
      "+--------+-------------------+-------------+--------------+-------------+------------------------+\n",
      "|   state|     city_or_county|totalincident|averageinjured|averagekilled|GunViolenceSeverityLevel|\n",
      "+--------+-------------------+-------------+--------------+-------------+------------------------+\n",
      "|Illinois|        Centreville|            1|           5.0|          0.0|             Green Alert|\n",
      "|Illinois|         Lake Bluff|            1|           3.0|          0.0|             Green Alert|\n",
      "|Illinois|         Hanna City|            1|           3.0|          0.0|             Green Alert|\n",
      "|Illinois|       Hopkins Park|            1|           2.0|          0.0|             Green Alert|\n",
      "|Illinois|        Carlinville|            1|           2.0|          0.0|             Green Alert|\n",
      "|Illinois|           Homewood|            1|           2.0|          0.0|             Green Alert|\n",
      "|Illinois|   Mchenry (county)|            1|           2.0|          0.0|             Green Alert|\n",
      "|Illinois|   Vermilion County|            1|           2.0|          0.0|             Green Alert|\n",
      "|Illinois|           Bellmont|            1|           2.0|          0.0|             Green Alert|\n",
      "|Illinois|             Oreana|            1|           2.0|          0.0|             Green Alert|\n",
      "|Illinois|       Calumet Park|            1|           2.0|          0.0|             Green Alert|\n",
      "|Illinois|             Rankin|            3|          1.67|          0.0|             Green Alert|\n",
      "|Illinois|            Momence|            3|          1.67|          0.0|             Green Alert|\n",
      "|Illinois| Chicago (Norridge)|            2|           1.5|          0.0|             Green Alert|\n",
      "|Illinois|             Venice|            7|          1.43|         0.29|             Green Alert|\n",
      "|Illinois| Lovejoy (Brooklyn)|            5|           1.4|          0.4|             Green Alert|\n",
      "|Illinois|       Sauk Village|            3|          1.33|          1.0|             Green Alert|\n",
      "|Illinois|             Mounds|            3|          1.33|         0.33|             Green Alert|\n",
      "|Illinois|           Bellwood|            6|          1.17|         0.67|             Green Alert|\n",
      "|Illinois|Chicago (Englewood)|          542|          1.01|         0.26|             Green Alert|\n",
      "+--------+-------------------+-------------+--------------+-------------+------------------------+\n",
      "only showing top 20 rows\n",
      "\n"
     ]
    }
   ],
   "source": [
    "allDF.sort(F.col(\"averageinjured\").desc())\\\n",
    "            .withColumn(\"GunViolenceSeverityLevel\", when(col(\"totalincident\")>=10000,\"Black Alert\")\\\n",
    "            .when((col(\"totalincident\")>=8000) & (col(\"totalincident\")<=9999),\"Red Alert\")\\\n",
    "            .when((col(\"totalincident\")>=6000) & (col(\"totalincident\")<=7999),\"Yellow Alert\")\\\n",
    "            .when((col(\"totalincident\")>=2000) & (col(\"totalincident\")<=5999),\"Blue Alert\")\\\n",
    "            .otherwise(\"Green Alert\")).show()"
   ]
  },
  {
   "cell_type": "markdown",
   "metadata": {},
   "source": [
    "# End of analysis"
   ]
  }
 ],
 "metadata": {
  "kernelspec": {
   "display_name": "Python 3",
   "language": "python",
   "name": "python3"
  },
  "language_info": {
   "codemirror_mode": {
    "name": "ipython",
    "version": 3
   },
   "file_extension": ".py",
   "mimetype": "text/x-python",
   "name": "python",
   "nbconvert_exporter": "python",
   "pygments_lexer": "ipython3",
   "version": "3.7.4"
  }
 },
 "nbformat": 4,
 "nbformat_minor": 2
}
